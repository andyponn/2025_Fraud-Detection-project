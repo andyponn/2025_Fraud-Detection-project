{
  "nbformat": 4,
  "nbformat_minor": 0,
  "metadata": {
    "colab": {
      "provenance": []
    },
    "kernelspec": {
      "name": "python3",
      "display_name": "Python 3"
    },
    "language_info": {
      "name": "python"
    }
  },
  "cells": [
    {
      "cell_type": "code",
      "execution_count": 1,
      "metadata": {
        "colab": {
          "base_uri": "https://localhost:8080/",
          "height": 350
        },
        "id": "91Zj8FpFn96h",
        "outputId": "80f25871-0a02-485c-f4ef-6f6c035b085b"
      },
      "outputs": [
        {
          "output_type": "error",
          "ename": "ValueError",
          "evalue": "mount failed",
          "traceback": [
            "\u001b[0;31m---------------------------------------------------------------------------\u001b[0m",
            "\u001b[0;31mValueError\u001b[0m                                Traceback (most recent call last)",
            "\u001b[0;32m/tmp/ipython-input-1978077472.py\u001b[0m in \u001b[0;36m<cell line: 0>\u001b[0;34m()\u001b[0m\n\u001b[1;32m      1\u001b[0m \u001b[0;31m#掛載 Google Drive\u001b[0m\u001b[0;34m\u001b[0m\u001b[0;34m\u001b[0m\u001b[0m\n\u001b[1;32m      2\u001b[0m \u001b[0;32mfrom\u001b[0m \u001b[0mgoogle\u001b[0m\u001b[0;34m.\u001b[0m\u001b[0mcolab\u001b[0m \u001b[0;32mimport\u001b[0m \u001b[0mdrive\u001b[0m\u001b[0;34m\u001b[0m\u001b[0;34m\u001b[0m\u001b[0m\n\u001b[0;32m----> 3\u001b[0;31m \u001b[0mdrive\u001b[0m\u001b[0;34m.\u001b[0m\u001b[0mmount\u001b[0m\u001b[0;34m(\u001b[0m\u001b[0;34m'/content/drive'\u001b[0m\u001b[0;34m)\u001b[0m\u001b[0;34m\u001b[0m\u001b[0;34m\u001b[0m\u001b[0m\n\u001b[0m\u001b[1;32m      4\u001b[0m \u001b[0;34m\u001b[0m\u001b[0m\n\u001b[1;32m      5\u001b[0m \u001b[0;32mimport\u001b[0m \u001b[0mpandas\u001b[0m \u001b[0;32mas\u001b[0m \u001b[0mpd\u001b[0m\u001b[0;34m\u001b[0m\u001b[0;34m\u001b[0m\u001b[0m\n",
            "\u001b[0;32m/usr/local/lib/python3.12/dist-packages/google/colab/drive.py\u001b[0m in \u001b[0;36mmount\u001b[0;34m(mountpoint, force_remount, timeout_ms, readonly)\u001b[0m\n\u001b[1;32m     95\u001b[0m \u001b[0;32mdef\u001b[0m \u001b[0mmount\u001b[0m\u001b[0;34m(\u001b[0m\u001b[0mmountpoint\u001b[0m\u001b[0;34m,\u001b[0m \u001b[0mforce_remount\u001b[0m\u001b[0;34m=\u001b[0m\u001b[0;32mFalse\u001b[0m\u001b[0;34m,\u001b[0m \u001b[0mtimeout_ms\u001b[0m\u001b[0;34m=\u001b[0m\u001b[0;36m120000\u001b[0m\u001b[0;34m,\u001b[0m \u001b[0mreadonly\u001b[0m\u001b[0;34m=\u001b[0m\u001b[0;32mFalse\u001b[0m\u001b[0;34m)\u001b[0m\u001b[0;34m:\u001b[0m\u001b[0;34m\u001b[0m\u001b[0;34m\u001b[0m\u001b[0m\n\u001b[1;32m     96\u001b[0m   \u001b[0;34m\"\"\"Mount your Google Drive at the specified mountpoint path.\"\"\"\u001b[0m\u001b[0;34m\u001b[0m\u001b[0;34m\u001b[0m\u001b[0m\n\u001b[0;32m---> 97\u001b[0;31m   return _mount(\n\u001b[0m\u001b[1;32m     98\u001b[0m       \u001b[0mmountpoint\u001b[0m\u001b[0;34m,\u001b[0m\u001b[0;34m\u001b[0m\u001b[0;34m\u001b[0m\u001b[0m\n\u001b[1;32m     99\u001b[0m       \u001b[0mforce_remount\u001b[0m\u001b[0;34m=\u001b[0m\u001b[0mforce_remount\u001b[0m\u001b[0;34m,\u001b[0m\u001b[0;34m\u001b[0m\u001b[0;34m\u001b[0m\u001b[0m\n",
            "\u001b[0;32m/usr/local/lib/python3.12/dist-packages/google/colab/drive.py\u001b[0m in \u001b[0;36m_mount\u001b[0;34m(mountpoint, force_remount, timeout_ms, ephemeral, readonly)\u001b[0m\n\u001b[1;32m    270\u001b[0m             \u001b[0;34m'https://research.google.com/colaboratory/faq.html#drive-timeout'\u001b[0m\u001b[0;34m\u001b[0m\u001b[0;34m\u001b[0m\u001b[0m\n\u001b[1;32m    271\u001b[0m         )\n\u001b[0;32m--> 272\u001b[0;31m       \u001b[0;32mraise\u001b[0m \u001b[0mValueError\u001b[0m\u001b[0;34m(\u001b[0m\u001b[0;34m'mount failed'\u001b[0m \u001b[0;34m+\u001b[0m \u001b[0mextra_reason\u001b[0m\u001b[0;34m)\u001b[0m\u001b[0;34m\u001b[0m\u001b[0;34m\u001b[0m\u001b[0m\n\u001b[0m\u001b[1;32m    273\u001b[0m     \u001b[0;32melif\u001b[0m \u001b[0mcase\u001b[0m \u001b[0;34m==\u001b[0m \u001b[0;36m4\u001b[0m\u001b[0;34m:\u001b[0m\u001b[0;34m\u001b[0m\u001b[0;34m\u001b[0m\u001b[0m\n\u001b[1;32m    274\u001b[0m       \u001b[0;31m# Terminate the DriveFS binary before killing bash.\u001b[0m\u001b[0;34m\u001b[0m\u001b[0;34m\u001b[0m\u001b[0m\n",
            "\u001b[0;31mValueError\u001b[0m: mount failed"
          ]
        }
      ],
      "source": [
        "#掛載 Google Drive\n",
        "from google.colab import drive\n",
        "drive.mount('/content/drive')\n",
        "\n",
        "import pandas as pd\n",
        "import os\n",
        "import json\n",
        "\n",
        "# Google Drive 中的資料夾路徑\n",
        "target_dir = \"/content/drive/MyDrive/kaggle_datasets/transactions-fraud-datasets\""
      ]
    },
    {
      "cell_type": "code",
      "source": [
        "# 1. 讀取 CSV\n",
        "df_card = pd.read_csv(os.path.join(target_dir, \"cards_data.csv\"))\n",
        "df_tran = pd.read_csv(os.path.join(target_dir, \"transactions_data.csv\"))\n",
        "df_user = pd.read_csv(os.path.join(target_dir, \"users_data.csv\"))\n",
        "\n",
        "# mcc_codes.json\n",
        "with open(os.path.join(target_dir, \"mcc_codes.json\"), \"r\") as f:\n",
        "    mcc_data = json.load(f)\n",
        "\n",
        "# 轉換成兩欄的 DataFrame\n",
        "df_mcc = pd.DataFrame(list(mcc_data.items()), columns=[\"mcc_code\", \"description\"])\n",
        "\n",
        "\n",
        "# train_fraud_labels.json\n",
        "with open(os.path.join(target_dir, \"train_fraud_labels.json\"), \"r\") as f:\n",
        "    fraud_data = json.load(f)\n",
        "\n",
        "# fraud_data 如果是 dict，轉換成 DataFrame\n",
        "if isinstance(fraud_data, dict):\n",
        "    df_fraud = pd.DataFrame(list(fraud_data.items()), columns=[\"transaction_id\", \"is_fraud\"])\n",
        "else:\n",
        "    df_fraud = pd.DataFrame(fraud_data)\n",
        "\n",
        "# 確認一下每個資料集大小\n",
        "print(\"cards_data.csv:\", df_card.shape)\n",
        "print(\"transactions_data.csv:\", df_tran.shape)\n",
        "print(\"users_data.csv:\", df_user.shape)\n",
        "print(\"mcc_codes.json:\", df_mcc.shape)\n",
        "print(\"train_fraud_labels.json:\", df_fraud.shape)"
      ],
      "metadata": {
        "colab": {
          "base_uri": "https://localhost:8080/"
        },
        "id": "pORphUrhr8sC",
        "outputId": "1d302773-d8d7-4138-850e-fd9cb39b4660"
      },
      "execution_count": null,
      "outputs": [
        {
          "output_type": "stream",
          "name": "stdout",
          "text": [
            "cards_data.csv: (6146, 13)\n",
            "transactions_data.csv: (13305915, 12)\n",
            "users_data.csv: (2000, 14)\n",
            "mcc_codes.json: (109, 2)\n",
            "train_fraud_labels.json: (1, 2)\n"
          ]
        }
      ]
    },
    {
      "cell_type": "code",
      "source": [
        "print(df_card.columns)\n",
        "print(df_tran.columns)\n",
        "print(df_user.columns)\n",
        "print(df_mcc.columns)\n",
        "print(df_fraud.columns)"
      ],
      "metadata": {
        "colab": {
          "base_uri": "https://localhost:8080/"
        },
        "id": "G1BskbUotbNH",
        "outputId": "837ac642-07d2-42fa-9416-92f2d945a09c"
      },
      "execution_count": null,
      "outputs": [
        {
          "output_type": "stream",
          "name": "stdout",
          "text": [
            "Index(['id', 'client_id', 'card_brand', 'card_type', 'card_number', 'expires',\n",
            "       'cvv', 'has_chip', 'num_cards_issued', 'credit_limit', 'acct_open_date',\n",
            "       'year_pin_last_changed', 'card_on_dark_web'],\n",
            "      dtype='object')\n",
            "Index(['id', 'date', 'client_id', 'card_id', 'amount', 'use_chip',\n",
            "       'merchant_id', 'merchant_city', 'merchant_state', 'zip', 'mcc',\n",
            "       'errors'],\n",
            "      dtype='object')\n",
            "Index(['id', 'current_age', 'retirement_age', 'birth_year', 'birth_month',\n",
            "       'gender', 'address', 'latitude', 'longitude', 'per_capita_income',\n",
            "       'yearly_income', 'total_debt', 'credit_score', 'num_credit_cards'],\n",
            "      dtype='object')\n",
            "Index(['mcc_code', 'description'], dtype='object')\n",
            "Index(['transaction_id', 'is_fraud'], dtype='object')\n"
          ]
        }
      ]
    },
    {
      "cell_type": "code",
      "source": [
        "cars one heart encoding"
      ],
      "metadata": {
        "colab": {
          "base_uri": "https://localhost:8080/",
          "height": 105
        },
        "id": "WVTi5S6XrUyN",
        "outputId": "7c85d826-19f0-4213-a5de-613565d7244e"
      },
      "execution_count": null,
      "outputs": [
        {
          "output_type": "error",
          "ename": "SyntaxError",
          "evalue": "invalid syntax (ipython-input-3595165742.py, line 1)",
          "traceback": [
            "\u001b[0;36m  File \u001b[0;32m\"/tmp/ipython-input-3595165742.py\"\u001b[0;36m, line \u001b[0;32m1\u001b[0m\n\u001b[0;31m    cars one heart encoding\u001b[0m\n\u001b[0m         ^\u001b[0m\n\u001b[0;31mSyntaxError\u001b[0m\u001b[0;31m:\u001b[0m invalid syntax\n"
          ]
        }
      ]
    }
  ]
}