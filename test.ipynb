{
 "cells": [
  {
   "cell_type": "code",
   "execution_count": 1,
   "id": "c43e4cc8",
   "metadata": {},
   "outputs": [
    {
     "name": "stdout",
     "output_type": "stream",
     "text": [
      "f'(x) = x*(-n*x*exp(n*x) + 2*exp(n*x) - 2)/(1 - exp(n*x))**2\n",
      "Solutions for x:\n",
      "[(LambertW(-2*exp(-2)) + 2)/n]\n"
     ]
    }
   ],
   "source": [
    "import sympy as sp\n",
    "\n",
    "# 定義符號\n",
    "x, n = sp.symbols('x n', real=True)\n",
    "\n",
    "# 定義函數 f(x) = x^2 / (exp(n*x) - 1)\n",
    "f = x**2 / (sp.exp(n*x) - 1)\n",
    "\n",
    "# 對 x 微分\n",
    "df = sp.diff(f, x)\n",
    "\n",
    "# 解方程 df = 0\n",
    "solution = sp.solve(sp.simplify(df), x)\n",
    "\n",
    "# 顯示結果\n",
    "print(\"f'(x) =\", sp.simplify(df))\n",
    "print(\"Solutions for x:\")\n",
    "print(solution)\n"
   ]
  }
 ],
 "metadata": {
  "kernelspec": {
   "display_name": "virtual",
   "language": "python",
   "name": "python3"
  },
  "language_info": {
   "codemirror_mode": {
    "name": "ipython",
    "version": 3
   },
   "file_extension": ".py",
   "mimetype": "text/x-python",
   "name": "python",
   "nbconvert_exporter": "python",
   "pygments_lexer": "ipython3",
   "version": "3.13.7"
  }
 },
 "nbformat": 4,
 "nbformat_minor": 5
}
