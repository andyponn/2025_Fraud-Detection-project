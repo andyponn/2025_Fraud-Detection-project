{
 "cells": [
  {
   "cell_type": "markdown",
   "id": "1283ccff",
   "metadata": {},
   "source": [
    "### Chapter4_Queation 12"
   ]
  },
  {
   "cell_type": "code",
   "execution_count": null,
   "id": "ffff420d",
   "metadata": {
    "vscode": {
     "languageId": "plaintext"
    }
   },
   "outputs": [],
   "source": []
  }
 ],
 "metadata": {
  "language_info": {
   "name": "python"
  }
 },
 "nbformat": 4,
 "nbformat_minor": 5
}
