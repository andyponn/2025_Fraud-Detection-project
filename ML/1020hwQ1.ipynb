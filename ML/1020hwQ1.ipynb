{
 "cells": [
  {
   "cell_type": "markdown",
   "id": "300b4cac",
   "metadata": {},
   "source": []
  },
  {
   "cell_type": "markdown",
   "id": "e35a4056",
   "metadata": {},
   "source": [
    "###　Suppose we collect data for a group of students in a statistics class with variables $X_1$ = hours studied, $X_2$ = undergrad GPA, and Y = receive an A. We fit a logistic regression and produce estimated coefficient, $β_0$ = −6, $β_1$ = 0.05, $β_2$ = 1.\n"
   ]
  },
  {
   "cell_type": "code",
   "execution_count": null,
   "id": "69baabd0",
   "metadata": {
    "vscode": {
     "languageId": "plaintext"
    }
   },
   "outputs": [],
   "source": []
  }
 ],
 "metadata": {
  "language_info": {
   "name": "python"
  }
 },
 "nbformat": 4,
 "nbformat_minor": 5
}
