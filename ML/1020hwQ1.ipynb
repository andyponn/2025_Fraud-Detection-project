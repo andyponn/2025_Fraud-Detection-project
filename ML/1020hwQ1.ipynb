{
 "cells": [
  {
   "cell_type": "markdown",
   "id": "5cb6fa2c",
   "metadata": {},
   "source": [
    "### Chapter4_Question 6\n",
    "\n",
    "Suppose we collect data for a group of students in a statistics class with variables:\n",
    "\n",
    "- $X_1$ = hours studied  \n",
    "- $X_2$ = undergrad GPA  \n",
    "- $Y$ = receive an A  \n",
    "\n",
    "We fit a logistic regression and produce the estimated coefficients:\n",
    "\n",
    "$$\n",
    "\\hat{\\beta}_0 = -6, \\quad \\hat{\\beta}_1 = 0.05, \\quad \\hat{\\beta}_2 = 1\n",
    "$$\n"
   ]
  },
  {
   "cell_type": "code",
   "execution_count": 1,
   "id": "24762710",
   "metadata": {},
   "outputs": [],
   "source": [
    "import numpy as np\n",
    "\n",
    "# logistic regression model\n",
    "def predict_probability(X1, X2):\n",
    "    beta0 = -6\n",
    "    beta1 = 0.05\n",
    "    beta2 = 1\n",
    "    logit = beta0 + beta1 * X1 + beta2 * X2\n",
    "    p = 1 / (1 + np.exp(-logit))\n",
    "    return p\n"
   ]
  },
  {
   "cell_type": "markdown",
   "id": "0b03bd6b",
   "metadata": {},
   "source": [
    "##### (a) Estimate the probability that a student who studies for 40hrs and has an undergrad GPA of 3.5 gets an A in the class."
   ]
  },
  {
   "cell_type": "code",
   "execution_count": 2,
   "id": "69baabd0",
   "metadata": {},
   "outputs": [
    {
     "name": "stdout",
     "output_type": "stream",
     "text": [
      "Predicted probability of receiving an A: 0.3775\n"
     ]
    }
   ],
   "source": [
    "X1 = 40   \n",
    "X2 = 3.5 \n",
    "p_hat = predict_probability(X1, X2)\n",
    "print(f\"Predicted probability of receiving an A: {p_hat:.4f}\")"
   ]
  },
  {
   "cell_type": "markdown",
   "id": "1db7fa51",
   "metadata": {},
   "source": [
    "##### (b) How many hours would the student in part (a) need to study to have a 50 % chance of getting an A in the class?"
   ]
  },
  {
   "cell_type": "code",
   "execution_count": 3,
   "id": "c5e0789b",
   "metadata": {},
   "outputs": [
    {
     "name": "stdout",
     "output_type": "stream",
     "text": [
      "當 X2 = 3.5, 使 p >= 0.5 的 X1 ≈ 50.00\n",
      "驗證求解結果 p = 0.5000\n"
     ]
    }
   ],
   "source": [
    "from scipy.optimize import fsolve\n",
    "X2 = 3.5\n",
    "# define the equation to find X1 s.t. p(X1, X2) - 0.5 = 0\n",
    "def equation(X1):\n",
    "    return predict_probability(X1, X2) - 0.5\n",
    "\n",
    "# find the solution by \"fsolve\", set initial value\n",
    "X1_solution = fsolve(equation, x0=40)[0]\n",
    "\n",
    "print(f\"當 X2 = {X2}, 使 p >= 0.5 的 X1 ≈ {X1_solution:.2f}\")\n",
    "print(f\"驗證求解結果 p = {predict_probability(X1_solution, X2):.4f}\")\n"
   ]
  }
 ],
 "metadata": {
  "kernelspec": {
   "display_name": "virtual",
   "language": "python",
   "name": "python3"
  },
  "language_info": {
   "codemirror_mode": {
    "name": "ipython",
    "version": 3
   },
   "file_extension": ".py",
   "mimetype": "text/x-python",
   "name": "python",
   "nbconvert_exporter": "python",
   "pygments_lexer": "ipython3",
   "version": "3.13.7"
  }
 },
 "nbformat": 4,
 "nbformat_minor": 5
}
