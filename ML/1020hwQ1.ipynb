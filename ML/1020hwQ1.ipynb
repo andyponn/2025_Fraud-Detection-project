{
 "cells": [
  {
   "cell_type": "markdown",
   "id": "e35a4056",
   "metadata": {},
   "source": [
    "### Q6. Suppose we collect data for a group of students in a statistics class with variables $X_1$ = hours studied, $X_2$ = undergrad GPA, and Y = receive an A. We fit a logistic regression and produce estimated coefficient, $β_0$^ = −6, $β_1$^ = 0.05, $β_2$^ = 1.\n"
   ]
  },
  {
   "cell_type": "code",
   "execution_count": 3,
   "id": "24762710",
   "metadata": {},
   "outputs": [],
   "source": [
    "import numpy as np\n",
    "\n",
    "# logistic regression model\n",
    "def predict_probability(X1, X2):\n",
    "    beta0 = -6\n",
    "    beta1 = 0.05\n",
    "    beta2 = 1\n",
    "    logit = beta0 + beta1 * X1 + beta2 * X2\n",
    "    p = 1 / (1 + np.exp(-logit))\n",
    "    return p\n"
   ]
  },
  {
   "cell_type": "markdown",
   "id": "0b03bd6b",
   "metadata": {},
   "source": [
    "##### (a) Estimate the probability that a student who studies for 40 h and has an undergrad GPA of 3.5 gets an A in the class."
   ]
  },
  {
   "cell_type": "code",
   "execution_count": 4,
   "id": "69baabd0",
   "metadata": {},
   "outputs": [
    {
     "name": "stdout",
     "output_type": "stream",
     "text": [
      "Predicted probability of receiving an A: 0.3775\n"
     ]
    }
   ],
   "source": [
    "X1 = 40   \n",
    "X2 = 3.5 \n",
    "p_hat = predict_probability(X1, X2)\n",
    "print(f\"Predicted probability of receiving an A: {p_hat:.4f}\")"
   ]
  },
  {
   "cell_type": "markdown",
   "id": "1db7fa51",
   "metadata": {},
   "source": [
    "##### (b) How many hours would the student in part (a) need to study to have a 50 % chance of getting an A in the class?"
   ]
  },
  {
   "cell_type": "code",
   "execution_count": null,
   "id": "c5e0789b",
   "metadata": {},
   "outputs": [
    {
     "ename": "NameError",
     "evalue": "name 'X1_min' is not defined",
     "output_type": "error",
     "traceback": [
      "\u001b[31m---------------------------------------------------------------------------\u001b[39m",
      "\u001b[31mNameError\u001b[39m                                 Traceback (most recent call last)",
      "\u001b[36mCell\u001b[39m\u001b[36m \u001b[39m\u001b[32mIn[5]\u001b[39m\u001b[32m, line 4\u001b[39m\n\u001b[32m      1\u001b[39m X2 = \u001b[32m3.5\u001b[39m\n\u001b[32m      3\u001b[39m \u001b[38;5;66;03m# 驗證\u001b[39;00m\n\u001b[32m----> \u001b[39m\u001b[32m4\u001b[39m p_check = predict_probability(\u001b[43mX1_min\u001b[49m, X2)\n\u001b[32m      5\u001b[39m \u001b[38;5;28mprint\u001b[39m(\u001b[33mf\u001b[39m\u001b[33m\"\u001b[39m\u001b[33m驗證 p = \u001b[39m\u001b[38;5;132;01m{\u001b[39;00mp_check\u001b[38;5;132;01m:\u001b[39;00m\u001b[33m.4f\u001b[39m\u001b[38;5;132;01m}\u001b[39;00m\u001b[33m\"\u001b[39m)\n",
      "\u001b[31mNameError\u001b[39m: name 'X1_min' is not defined"
     ]
    }
   ],
   "source": [
    "from scipy.optimize import fsolve\n",
    "X2 = 3.5\n",
    "# 定義方程式：我們要找 p(X1, X2) - 0.5 = 0\n",
    "def equation(X1):\n",
    "    return predict_probability(X1, X2) - 0.5\n",
    "\n",
    "# 用 fsolve 求解，初始猜測給個大概值\n",
    "X1_solution = fsolve(equation, x0=40)[0]\n",
    "\n",
    "print(f\"當 X2 = {X2}, 使 p >= 0.5 的 X1 ≈ {X1_solution:.2f}\")\n",
    "print(f\"驗證 p = {predict_probability(X1_solution, X2):.4f}\")\n"
   ]
  },
  {
   "cell_type": "code",
   "execution_count": 6,
   "id": "e85cca1b",
   "metadata": {},
   "outputs": [
    {
     "name": "stdout",
     "output_type": "stream",
     "text": [
      "Requirement already satisfied: scipy in /Users/andyw.p.chen/Documents/Project/2025_Fraud-Detection-project/virtual/lib/python3.13/site-packages (1.16.2)\n",
      "Requirement already satisfied: numpy<2.6,>=1.25.2 in /Users/andyw.p.chen/Documents/Project/2025_Fraud-Detection-project/virtual/lib/python3.13/site-packages (from scipy) (2.3.3)\n",
      "Note: you may need to restart the kernel to use updated packages.\n"
     ]
    }
   ],
   "source": [
    "pip install scipy"
   ]
  }
 ],
 "metadata": {
  "kernelspec": {
   "display_name": "virtual",
   "language": "python",
   "name": "python3"
  },
  "language_info": {
   "codemirror_mode": {
    "name": "ipython",
    "version": 3
   },
   "file_extension": ".py",
   "mimetype": "text/x-python",
   "name": "python",
   "nbconvert_exporter": "python",
   "pygments_lexer": "ipython3",
   "version": "3.13.7"
  }
 },
 "nbformat": 4,
 "nbformat_minor": 5
}
