{
 "cells": [
  {
   "cell_type": "markdown",
   "id": "fce949fb",
   "metadata": {},
   "source": [
    "### Chapter4_Queation 9 \n",
    "This problem has to do with odds."
   ]
  },
  {
   "cell_type": "markdown",
   "id": "f8df7331",
   "metadata": {},
   "source": [
    "(a) On average, what fraction of people with an odds of 0.37 of\n",
    "defaulting on their credit card payment will in fact default?"
   ]
  },
  {
   "cell_type": "code",
   "execution_count": 1,
   "id": "89e077a3",
   "metadata": {},
   "outputs": [
    {
     "name": "stdout",
     "output_type": "stream",
     "text": [
      "In fact default sol≈ 0.27\n",
      "驗證求解結果 p = 0.3700\n"
     ]
    }
   ],
   "source": [
    "from scipy.optimize import fsolve\n",
    "odds_set=0.37\n",
    "\n",
    "def odds(p):\n",
    "    odds = p/(1-p)\n",
    "    return odds\n",
    "\n",
    "def equation(p0):\n",
    "    return odds(p0) - odds_set\n",
    "# find the solution by \"fsolve\", set initial value\n",
    "p_solution = fsolve(equation, x0=0.1)[0]\n",
    "\n",
    "print(f\"In fact default sol≈ {p_solution:.2f}\")\n",
    "print(f\"驗證求解結果 p = {odds(p_solution):.4f}\")"
   ]
  },
  {
   "cell_type": "markdown",
   "id": "bd5a4113",
   "metadata": {},
   "source": [
    "(b) Suppose that an individual has a 16 % chance of defaulting on\n",
    "her credit card payment. What are the odds that she will default?"
   ]
  },
  {
   "cell_type": "code",
   "execution_count": 2,
   "id": "007450a4",
   "metadata": {},
   "outputs": [
    {
     "name": "stdout",
     "output_type": "stream",
     "text": [
      "The odds that the woman will default is 0.1905.\n"
     ]
    }
   ],
   "source": [
    "chance_set=0.16\n",
    "odds_b = odds(chance_set)\n",
    "\n",
    "print(f\"The odds that the woman will default is {odds_b:.4f}.\")"
   ]
  }
 ],
 "metadata": {
  "kernelspec": {
   "display_name": "virtual",
   "language": "python",
   "name": "python3"
  },
  "language_info": {
   "codemirror_mode": {
    "name": "ipython",
    "version": 3
   },
   "file_extension": ".py",
   "mimetype": "text/x-python",
   "name": "python",
   "nbconvert_exporter": "python",
   "pygments_lexer": "ipython3",
   "version": "3.13.7"
  }
 },
 "nbformat": 4,
 "nbformat_minor": 5
}
