{
 "cells": [
  {
   "cell_type": "markdown",
   "id": "fce949fb",
   "metadata": {},
   "source": [
    "### Chapter4 Queation_9This problem has to do with odds."
   ]
  }
 ],
 "metadata": {
  "language_info": {
   "name": "python"
  }
 },
 "nbformat": 4,
 "nbformat_minor": 5
}
